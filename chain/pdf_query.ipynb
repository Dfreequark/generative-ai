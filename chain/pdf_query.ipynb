{
 "cells": [
  {
   "cell_type": "code",
   "execution_count": 1,
   "metadata": {},
   "outputs": [],
   "source": [
    "import os\n",
    "from dotenv import load_dotenv\n",
    "load_dotenv()\n",
    "\n",
    "os.environ[\"LANGCHAIN_API_KEY\"] = os.getenv(\"LANGCHAIN_API_KEY\")\n",
    "os.environ[\"COHERE_API_KEY\"] = os.getenv(\"COHERE_API_KEY\")\n",
    "os.environ[\"LANGCHAIN_TRACING_V2\"]=\"true\""
   ]
  },
  {
   "cell_type": "code",
   "execution_count": 3,
   "metadata": {},
   "outputs": [
    {
     "name": "stdout",
     "output_type": "stream",
     "text": [
      "[Document(metadata={'source': 'stories.pdf', 'page': 0}, page_content='THE WIND AND THE SUN  \\nOnce the Wind and the Sun had an argument. “I am stronger than you,” said the Wind. “No, you are \\nnot,” said the Sun. Just at that moment they saw a traveler walking across the road. He was wrapped \\nin a shawl. The Sun and the Wind agreed that whoever could separate the traveller from his shawl \\nwas stronger. The Wind took the first turn. He blew with all his might to tear the traveller’s shawl \\nfrom his shoulders. But the harder he blew, the tighter the traveller gripped the shawl to his body. \\nThe struggle wen t on till the Wind’s turn was over. Now it was the Sun’s turn. The Sun smiled warmly. \\nThe traveller felt the warmth of the smiling Sun. Soon he let the shawl fall open. The Sun’s smile grew \\nwarmer and warmer... hotter and hotter. Now the traveller no longe r needed his shawl. He took it off \\nand dropped it on the ground. The Sun was declared stronger than the Wind.  \\nMoral: Brute force can’t achieve what a gentle smile can  \\n \\nTHE VILLAGER AND THE SPECTACLES  \\nThere was a villager. He was illiterate. He did not know how to read and write. He often saw people \\nwearing spectacles for reading books or papers. He thought, “If I have spectacles, I can also read like \\nthese people. I must go to town and buy a pair of sp ectacles for myself.” So one day he went to a \\ntown. He entered a spectacles shop He asked the shopkeeper for a pair of spectacles for reading. The \\nshopkeeper gave him various pairs of spectacles and a book. The villager tried all the spectacles one \\nby one.  But he could not read anything. He told the shopkeeper that all those spectacles were \\nuseless for him. The shopkeeper gave him a doubtful look. Then he looked at the book. It was upside \\ndown! The shopkeeper said, “Perhaps you don’t know how to read.” The villager said, “No, I don’t. I \\nwant to buy spectacles so that I can read like others. But I can’t read with any of these spectacles.” \\nThe shopkeeper controlled his laughter with great difficulty when he learnt the real problem of his \\nilliterate customer. H e explained to the villager, “My dear friend, you are very ignorant. Spectacles \\ndon’t help to read or write. They only help you to see better. First of all you must learn to read and \\nwrite.”  \\n \\nMoral: Ignorance is blindness  \\n \\nAS YOU SOW , SO SHALL YOU REAP  \\nOne night, three thieves stole a lot of money from a rich man’s house. They put the money in a bag \\nand went to the forest. They felt very hungry. So, one of them went to a nearby village to buy food. \\nThe other two remained in the forest to take care of the  bag of money. The thief that went for food \\nhad an evil idea. He ate his food at a hotel. Then he bought food for his two mates in the forest. He \\nmixed a strong poison with the food. He thought, “Those two will eat this poisoned food and die. \\nThen I will g et all the money for myself.” Meanwhile, the two wicked men in the forest decided to kill \\ntheir mate on return. They thought that they would divide the money between the two of them. All \\nthe three wicked men carried out their cruel plans. The thief who wan ted all the money for himself \\ncame to the forest with the poisoned food. The two men in the forest hit him and killed him. Then \\nthey ate the poisoned food and died. Thus, these evil people met with an evil end.  \\nMoral: Evil begets evil  '), Document(metadata={'source': 'stories.pdf', 'page': 1}, page_content='THE FARMER AND HIS SONS  \\nA farmer had five sons. They were strong and hardworking. But they always quarrelled with one \\nanother. Sometimes, they even fought. The farmer wanted his sons to stop quarrelling and fighting. \\nHe wanted them to live in peace. Plain words of advice or scold ing did not have much effect on these \\nyoung people. The farmer always thought what to do to keep his sons united. One day he found an \\nanswer to the problem. So he called all his sons together. He showed them a bundle of sticks and \\nsaid, “I want any of you to break these sticks without separating them from the bundle.” Each of the \\nfive sons tried one by one. They used their full strength and skill. But none of them could break the \\nsticks. Then the old man separated the sticks and gave each of them just a sin gle stick to break. They \\nbroke the sticks easily. The farmer said, “A single stick by itself is weak. It is strong as long as it is tied \\nup in a bundle. Likewise, you will be strong if you are united. You will be weak if you are divided.”  \\nMoral: United we stand, Divided we fall.  \\n \\nBIRBAL THE WISE  \\nOne day, a rich merchant came to Birbal. He said to Birbal, “I have seven servants in my house. One \\nof them has stolen my bag of precious pearls. Please find out the thief.” So Birbal went to the rich \\nman’s house. He called all the seven servants in a room . He gave a stick to each one of them. Then he \\nsaid, “These are magic sticks. Just now all these sticks are equal in length. Keep them with you and \\nreturn tomorrow. If there is a thief in the house, his stick will grow an inch longer by tomorrow.” The \\nservant who had stolen the bag of pearls was scared. He thought, “If I cut a piece of one inch from \\nmy stick, I won’t be caught.” So he cut the stick and made it shorter by one inch. The next day Birbal \\ncollected the sticks from the servants. He found that one  servant’s stick was short by an inch. Birbal \\npointed his finger at him and said, “Here is the thief.” The servant confessed to his crime. He \\nreturned the bag of pearls. He was sent to jail.  \\n \\n \\nTHE WOLF IN SHEEP’S CLOTHING  \\nOne day a wolf found a sheepskin. He covered himself with the sheepskin and got into a flock of \\nsheep grazing in a field. He thought, “The shepherd will shut the sheep in the pen after sunset. At \\nnight I will run away with a fat sheep and eat it. All went well till the shepherd shut the sheep in the \\npen and left. The wolf waited patiently for the night to advance and grow darker. But then an \\nunexpected thing happened. One of the servants of the shepherd entered the pen. His master had \\nsent him to bring a fa t sheep for supper. As luck would have it, the servant picked up the wolf \\ndressed in the sheepskin. That night the shepherd and his guests had the wolf for supper.  \\nMoral: An evil design has an evil end.  \\n ')]\n"
     ]
    }
   ],
   "source": [
    "from langchain_community.document_loaders import PyPDFLoader\n",
    "loader = PyPDFLoader(\"stories.pdf\")\n",
    "pdf_text =loader.load()\n",
    "print(pdf_text)"
   ]
  },
  {
   "cell_type": "code",
   "execution_count": 4,
   "metadata": {},
   "outputs": [
    {
     "data": {
      "text/plain": [
       "[Document(metadata={'source': 'stories.pdf', 'page': 0}, page_content='THE WIND AND THE SUN  \\nOnce the Wind and the Sun had an argument. “I am stronger than you,” said the Wind. “No, you are \\nnot,” said the Sun. Just at that moment they saw a traveler walking across the road. He was wrapped \\nin a shawl. The Sun and the Wind agreed that whoever could separate the traveller from his shawl \\nwas stronger. The Wind took the first turn. He blew with all his might to tear the traveller’s shawl \\nfrom his shoulders. But the harder he blew, the tighter the traveller gripped the shawl to his body. \\nThe struggle wen t on till the Wind’s turn was over. Now it was the Sun’s turn. The Sun smiled warmly. \\nThe traveller felt the warmth of the smiling Sun. Soon he let the shawl fall open. The Sun’s smile grew \\nwarmer and warmer... hotter and hotter. Now the traveller no longe r needed his shawl. He took it off \\nand dropped it on the ground. The Sun was declared stronger than the Wind.  \\nMoral: Brute force can’t achieve what a gentle smile can'),\n",
       " Document(metadata={'source': 'stories.pdf', 'page': 0}, page_content='and dropped it on the ground. The Sun was declared stronger than the Wind.  \\nMoral: Brute force can’t achieve what a gentle smile can  \\n \\nTHE VILLAGER AND THE SPECTACLES  \\nThere was a villager. He was illiterate. He did not know how to read and write. He often saw people \\nwearing spectacles for reading books or papers. He thought, “If I have spectacles, I can also read like \\nthese people. I must go to town and buy a pair of sp ectacles for myself.” So one day he went to a \\ntown. He entered a spectacles shop He asked the shopkeeper for a pair of spectacles for reading. The \\nshopkeeper gave him various pairs of spectacles and a book. The villager tried all the spectacles one \\nby one.  But he could not read anything. He told the shopkeeper that all those spectacles were \\nuseless for him. The shopkeeper gave him a doubtful look. Then he looked at the book. It was upside \\ndown! The shopkeeper said, “Perhaps you don’t know how to read.” The villager said, “No, I don’t. I'),\n",
       " Document(metadata={'source': 'stories.pdf', 'page': 0}, page_content='down! The shopkeeper said, “Perhaps you don’t know how to read.” The villager said, “No, I don’t. I \\nwant to buy spectacles so that I can read like others. But I can’t read with any of these spectacles.” \\nThe shopkeeper controlled his laughter with great difficulty when he learnt the real problem of his \\nilliterate customer. H e explained to the villager, “My dear friend, you are very ignorant. Spectacles \\ndon’t help to read or write. They only help you to see better. First of all you must learn to read and \\nwrite.”  \\n \\nMoral: Ignorance is blindness  \\n \\nAS YOU SOW , SO SHALL YOU REAP  \\nOne night, three thieves stole a lot of money from a rich man’s house. They put the money in a bag \\nand went to the forest. They felt very hungry. So, one of them went to a nearby village to buy food. \\nThe other two remained in the forest to take care of the  bag of money. The thief that went for food \\nhad an evil idea. He ate his food at a hotel. Then he bought food for his two mates in the forest. He'),\n",
       " Document(metadata={'source': 'stories.pdf', 'page': 0}, page_content='had an evil idea. He ate his food at a hotel. Then he bought food for his two mates in the forest. He \\nmixed a strong poison with the food. He thought, “Those two will eat this poisoned food and die. \\nThen I will g et all the money for myself.” Meanwhile, the two wicked men in the forest decided to kill \\ntheir mate on return. They thought that they would divide the money between the two of them. All \\nthe three wicked men carried out their cruel plans. The thief who wan ted all the money for himself \\ncame to the forest with the poisoned food. The two men in the forest hit him and killed him. Then \\nthey ate the poisoned food and died. Thus, these evil people met with an evil end.  \\nMoral: Evil begets evil'),\n",
       " Document(metadata={'source': 'stories.pdf', 'page': 1}, page_content='THE FARMER AND HIS SONS  \\nA farmer had five sons. They were strong and hardworking. But they always quarrelled with one \\nanother. Sometimes, they even fought. The farmer wanted his sons to stop quarrelling and fighting. \\nHe wanted them to live in peace. Plain words of advice or scold ing did not have much effect on these \\nyoung people. The farmer always thought what to do to keep his sons united. One day he found an \\nanswer to the problem. So he called all his sons together. He showed them a bundle of sticks and \\nsaid, “I want any of you to break these sticks without separating them from the bundle.” Each of the \\nfive sons tried one by one. They used their full strength and skill. But none of them could break the \\nsticks. Then the old man separated the sticks and gave each of them just a sin gle stick to break. They \\nbroke the sticks easily. The farmer said, “A single stick by itself is weak. It is strong as long as it is tied'),\n",
       " Document(metadata={'source': 'stories.pdf', 'page': 1}, page_content='broke the sticks easily. The farmer said, “A single stick by itself is weak. It is strong as long as it is tied \\nup in a bundle. Likewise, you will be strong if you are united. You will be weak if you are divided.”  \\nMoral: United we stand, Divided we fall.  \\n \\nBIRBAL THE WISE  \\nOne day, a rich merchant came to Birbal. He said to Birbal, “I have seven servants in my house. One \\nof them has stolen my bag of precious pearls. Please find out the thief.” So Birbal went to the rich \\nman’s house. He called all the seven servants in a room . He gave a stick to each one of them. Then he \\nsaid, “These are magic sticks. Just now all these sticks are equal in length. Keep them with you and \\nreturn tomorrow. If there is a thief in the house, his stick will grow an inch longer by tomorrow.” The \\nservant who had stolen the bag of pearls was scared. He thought, “If I cut a piece of one inch from \\nmy stick, I won’t be caught.” So he cut the stick and made it shorter by one inch. The next day Birbal'),\n",
       " Document(metadata={'source': 'stories.pdf', 'page': 1}, page_content='my stick, I won’t be caught.” So he cut the stick and made it shorter by one inch. The next day Birbal \\ncollected the sticks from the servants. He found that one  servant’s stick was short by an inch. Birbal \\npointed his finger at him and said, “Here is the thief.” The servant confessed to his crime. He \\nreturned the bag of pearls. He was sent to jail.  \\n \\n \\nTHE WOLF IN SHEEP’S CLOTHING  \\nOne day a wolf found a sheepskin. He covered himself with the sheepskin and got into a flock of \\nsheep grazing in a field. He thought, “The shepherd will shut the sheep in the pen after sunset. At \\nnight I will run away with a fat sheep and eat it. All went well till the shepherd shut the sheep in the \\npen and left. The wolf waited patiently for the night to advance and grow darker. But then an \\nunexpected thing happened. One of the servants of the shepherd entered the pen. His master had \\nsent him to bring a fa t sheep for supper. As luck would have it, the servant picked up the wolf'),\n",
       " Document(metadata={'source': 'stories.pdf', 'page': 1}, page_content='unexpected thing happened. One of the servants of the shepherd entered the pen. His master had \\nsent him to bring a fa t sheep for supper. As luck would have it, the servant picked up the wolf \\ndressed in the sheepskin. That night the shepherd and his guests had the wolf for supper.  \\nMoral: An evil design has an evil end.')]"
      ]
     },
     "execution_count": 4,
     "metadata": {},
     "output_type": "execute_result"
    }
   ],
   "source": [
    "from langchain.text_splitter import RecursiveCharacterTextSplitter\n",
    "text_splitter = RecursiveCharacterTextSplitter(chunk_size = 1000, chunk_overlap =200)\n",
    "pdf_chunk = text_splitter.split_documents(pdf_text)\n",
    "pdf_chunk"
   ]
  },
  {
   "cell_type": "code",
   "execution_count": 6,
   "metadata": {},
   "outputs": [
    {
     "data": {
      "text/plain": [
       "'and dropped it on the ground. The Sun was declared stronger than the Wind.  \\nMoral: Brute force can’t achieve what a gentle smile can  \\n \\nTHE VILLAGER AND THE SPECTACLES  \\nThere was a villager. He was illiterate. He did not know how to read and write. He often saw people \\nwearing spectacles for reading books or papers. He thought, “If I have spectacles, I can also read like \\nthese people. I must go to town and buy a pair of sp ectacles for myself.” So one day he went to a \\ntown. He entered a spectacles shop He asked the shopkeeper for a pair of spectacles for reading. The \\nshopkeeper gave him various pairs of spectacles and a book. The villager tried all the spectacles one \\nby one.  But he could not read anything. He told the shopkeeper that all those spectacles were \\nuseless for him. The shopkeeper gave him a doubtful look. Then he looked at the book. It was upside \\ndown! The shopkeeper said, “Perhaps you don’t know how to read.” The villager said, “No, I don’t. I'"
      ]
     },
     "execution_count": 6,
     "metadata": {},
     "output_type": "execute_result"
    }
   ],
   "source": [
    "pdf_chunk[1].page_content"
   ]
  },
  {
   "cell_type": "code",
   "execution_count": 8,
   "metadata": {},
   "outputs": [
    {
     "data": {
      "text/plain": [
       "{'source': 'stories.pdf', 'page': 1}"
      ]
     },
     "execution_count": 8,
     "metadata": {},
     "output_type": "execute_result"
    }
   ],
   "source": [
    "pdf_chunk[5].metadata"
   ]
  },
  {
   "cell_type": "code",
   "execution_count": 10,
   "metadata": {},
   "outputs": [],
   "source": [
    "from langchain_cohere import CohereEmbeddings\n",
    "from langchain_community.vectorstores import FAISS\n",
    "\n",
    "embeddings = CohereEmbeddings(\n",
    "    model = \"embed-english-v3.0\"\n",
    ")\n",
    "\n",
    "db = FAISS.from_documents(pdf_chunk, embeddings)"
   ]
  },
  {
   "cell_type": "code",
   "execution_count": 11,
   "metadata": {},
   "outputs": [],
   "source": [
    "# quering the database using similarity_search\n",
    "query = \"who said this: I am stronger than you \"\n",
    "result =db.similarity_search(query)"
   ]
  },
  {
   "cell_type": "code",
   "execution_count": 13,
   "metadata": {},
   "outputs": [
    {
     "data": {
      "text/plain": [
       "'THE WIND AND THE SUN  \\nOnce the Wind and the Sun had an argument. “I am stronger than you,” said the Wind. “No, you are \\nnot,” said the Sun. Just at that moment they saw a traveler walking across the road. He was wrapped \\nin a shawl. The Sun and the Wind agreed that whoever could separate the traveller from his shawl \\nwas stronger. The Wind took the first turn. He blew with all his might to tear the traveller’s shawl \\nfrom his shoulders. But the harder he blew, the tighter the traveller gripped the shawl to his body. \\nThe struggle wen t on till the Wind’s turn was over. Now it was the Sun’s turn. The Sun smiled warmly. \\nThe traveller felt the warmth of the smiling Sun. Soon he let the shawl fall open. The Sun’s smile grew \\nwarmer and warmer... hotter and hotter. Now the traveller no longe r needed his shawl. He took it off \\nand dropped it on the ground. The Sun was declared stronger than the Wind.  \\nMoral: Brute force can’t achieve what a gentle smile can'"
      ]
     },
     "execution_count": 13,
     "metadata": {},
     "output_type": "execute_result"
    }
   ],
   "source": [
    "result[0].page_content"
   ]
  },
  {
   "cell_type": "code",
   "execution_count": 14,
   "metadata": {},
   "outputs": [],
   "source": [
    "from langchain_cohere import ChatCohere\n",
    "model = ChatCohere(model=\"command-r-plus\")"
   ]
  },
  {
   "cell_type": "code",
   "execution_count": 24,
   "metadata": {},
   "outputs": [],
   "source": [
    "from langchain_core.prompts import ChatPromptTemplate\n",
    "\n",
    "prompt = ChatPromptTemplate.from_template(\n",
    "    \"\"\" \n",
    "Answer the following question based only on the provided context.\n",
    "Think step by step before providing a detailed answer.\n",
    "<context>\n",
    "{context}\n",
    "</context>\n",
    "Question: {input}\n",
    "\n",
    "\"\"\"\n",
    ")\n"
   ]
  },
  {
   "cell_type": "code",
   "execution_count": 25,
   "metadata": {},
   "outputs": [],
   "source": [
    "from langchain.chains.combine_documents import create_stuff_documents_chain\n",
    "document_chain = create_stuff_documents_chain(model, prompt)"
   ]
  },
  {
   "cell_type": "code",
   "execution_count": 26,
   "metadata": {},
   "outputs": [],
   "source": [
    "retriever = db.as_retriever()"
   ]
  },
  {
   "cell_type": "code",
   "execution_count": 27,
   "metadata": {},
   "outputs": [],
   "source": [
    "from langchain.chains import create_retrieval_chain\n",
    "rag_chain = create_retrieval_chain(retriever, document_chain)"
   ]
  },
  {
   "cell_type": "code",
   "execution_count": 28,
   "metadata": {},
   "outputs": [],
   "source": [
    "response= rag_chain.invoke({\"input\": \"who said this: I am stronger than you \"})"
   ]
  },
  {
   "cell_type": "markdown",
   "metadata": {},
   "source": []
  },
  {
   "cell_type": "code",
   "execution_count": 29,
   "metadata": {},
   "outputs": [
    {
     "data": {
      "text/plain": [
       "'The Wind said, \"I am stronger than you.\"'"
      ]
     },
     "execution_count": 29,
     "metadata": {},
     "output_type": "execute_result"
    }
   ],
   "source": [
    "response[\"answer\"]"
   ]
  },
  {
   "cell_type": "code",
   "execution_count": 36,
   "metadata": {},
   "outputs": [],
   "source": [
    "# another way of use of prompt\n",
    "sytem_message = (\n",
    "    \"\"\" \n",
    "You are an assistant for question answring tasks.\n",
    "use the following pieces of retrieved context to answer the question.\n",
    "If you don't know the answer, say that you don't know.\n",
    "Answer the question in hindi language.\n",
    "\\n\\n\n",
    "{context}\n",
    "\n",
    "\"\"\"\n",
    ")\n",
    "\n",
    "new_prompt= ChatPromptTemplate.from_messages(\n",
    "    [\n",
    "        (\"system\", sytem_message),\n",
    "        (\"human\", \"{input}\")\n",
    "    ]\n",
    "\n",
    ")"
   ]
  },
  {
   "cell_type": "code",
   "execution_count": 37,
   "metadata": {},
   "outputs": [],
   "source": [
    "question_answer_chain = create_stuff_documents_chain(model, new_prompt)\n",
    "new_rag_chain = create_retrieval_chain(retriever, question_answer_chain)"
   ]
  },
  {
   "cell_type": "code",
   "execution_count": 38,
   "metadata": {},
   "outputs": [
    {
     "data": {
      "text/plain": [
       "'मोरल: जैसी कृति, वैसा फल'"
      ]
     },
     "execution_count": 38,
     "metadata": {},
     "output_type": "execute_result"
    }
   ],
   "source": [
    "new_response= new_rag_chain.invoke({\"input\": \"what is the moral of the story: BIRBAL THE WISE\"})\n",
    "new_response[\"answer\"]"
   ]
  },
  {
   "cell_type": "code",
   "execution_count": null,
   "metadata": {},
   "outputs": [],
   "source": []
  }
 ],
 "metadata": {
  "kernelspec": {
   "display_name": "venv",
   "language": "python",
   "name": "python3"
  },
  "language_info": {
   "codemirror_mode": {
    "name": "ipython",
    "version": 3
   },
   "file_extension": ".py",
   "mimetype": "text/x-python",
   "name": "python",
   "nbconvert_exporter": "python",
   "pygments_lexer": "ipython3",
   "version": "3.12.2"
  }
 },
 "nbformat": 4,
 "nbformat_minor": 2
}
